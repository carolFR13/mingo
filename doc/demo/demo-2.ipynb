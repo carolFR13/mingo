{
 "cells": [
  {
   "cell_type": "markdown",
   "metadata": {},
   "source": [
    "## Statistical analysis with mingo.\n",
    "\n",
    "This demo pretends to cover the use of the methods available for statistical analysis. Here we will provide an example of a multivariate analysis (MVA)."
   ]
  },
  {
   "cell_type": "markdown",
   "metadata": {},
   "source": [
    "### Importing required methods and packages.\n",
    "\n",
    "We need to import  `Database`, `DBInput` and `Standardised_matrix` . We will also need `matplotlib` and `numpy` modules for this demo.\n",
    "\n",
    "\n",
    "- `Database` is a class used to create, fill and delete databases.\n",
    "- `DBInput` is a datatype used to pass input to `Database`.\n",
    "- `Standardised_matrix` is a class used to make statistical analysis. You can also use `Matrix` or `Normaliced_matrix` according to your needs."
   ]
  },
  {
   "cell_type": "code",
   "execution_count": 1,
   "metadata": {},
   "outputs": [],
   "source": [
    "from mingo import DBInput, Database, Standardised_matrix\n",
    "import numpy as np\n",
    "import matplotlib.pyplot as plt"
   ]
  },
  {
   "cell_type": "markdown",
   "metadata": {},
   "source": [
    "### Call the database.\n",
    "\n",
    "According to the `demo` program available, we already have a database called `demo` filled with all the sources. Here we will only call that database."
   ]
  },
  {
   "cell_type": "code",
   "execution_count": 2,
   "metadata": {},
   "outputs": [],
   "source": [
    "db_input = DBInput(\"demo\", \n",
    "                  username = input(\"Enter user name: \"))\n",
    "\n",
    "db = Database(db_input)"
   ]
  },
  {
   "cell_type": "markdown",
   "metadata": {},
   "source": [
    "### Create Matrix object.\n",
    "\n",
    "In order to use the `Matrix` class (in this case `Standardised_matrix`), we need to initialize an object from the desired class.\n"
   ]
  },
  {
   "cell_type": "code",
   "execution_count": 3,
   "metadata": {},
   "outputs": [],
   "source": [
    "stand_matrix = Standardised_matrix(db)"
   ]
  },
  {
   "cell_type": "markdown",
   "metadata": {},
   "source": [
    "### Exploring the available methods.\n",
    "\n",
    "Once we have an object from the class, we can call the methods available, according to our needs. \n",
    "\n",
    "We will start by presenting the methods `variables_list()` and `variables()`.\n",
    "\n",
    "- `variables_list()` is a method that returns a list of the names of the variables.\n",
    "- `variables()` is a method that returns a dictionary with the values of the variables stored in arrays. It takes as parameters *id*, *energy_value* and *R*."
   ]
  },
  {
   "cell_type": "code",
   "execution_count": 4,
   "metadata": {},
   "outputs": [
    {
     "name": "stdout",
     "output_type": "stream",
     "text": [
      "varible's list:  ['hit_dist', 'shower_depth', 'shower_waist', 'plane_hits 2', 'plane_hits 3', 'plane_hits 4', 'scattering 2', 'scattering 3', 'scattering 4'] \n",
      "\n",
      "variables values: \n",
      "\n",
      "hit_dist: [42 32 70 53 25 58 44 15 25 46] length: 10000\n",
      "shower_depth: [210. 220. 220. 245. 270. 310. 200. 245. 300. 185.] length: 10000\n",
      "shower_waist: [265. 310. 525. 515. 400. 215. 310. 295. 530. 530.] length: 10000\n",
      "plane_hits 2: [ 9 12 13 10  7  3 14 19  9 26] length: 9935\n",
      "plane_hits 3: [ 8 12 26 18  3  4 22  5 12 13] length: 9919\n",
      "plane_hits 4: [ 6  9 10 14 14 12  7 18 29  8] length: 9886\n",
      "scattering 2: [ 84.2 150.6 112.6  49.    9.6  97.8  81.2  78.2  96.4 230.2] length: 9935\n",
      "scattering 3: [ 20.   51.   58.6  31.6  20.8  45.   59.2  60.4  92.  110.6] length: 9919\n",
      "scattering 4: [139.6  84.4 132.  195.6  58.8 176.4 214.2  69.  134.   48.6] length: 9886\n"
     ]
    }
   ],
   "source": [
    "#we will study for example the variables for an initial energy e_0 = 1000 MeV\n",
    "id = 1 ; energy_value = 1000 ; R = 5\n",
    "\n",
    "names = stand_matrix.variables_list()\n",
    "variables = stand_matrix.variables(id, energy_value, R = 5)\n",
    "\n",
    "#we print the names of the variables\n",
    "print('varible\\'s list: ',names, '\\n')\n",
    "\n",
    "#we show the first 10 elements of every variable\n",
    "print('variables values:','\\n')\n",
    "for key, value in variables.items():\n",
    "    print(f\"{key}: {value[:10]}\", 'length:', len(value))"
   ]
  },
  {
   "cell_type": "markdown",
   "metadata": {},
   "source": [
    "We will call now the methods `get_matrix()` and `get_std_matrix()`.\n",
    "\n",
    "- `get_matrix()` is a method that returns the variables in a (num_events x num_variables) matrix. It only includes the variables whose array's length is 10000. \n",
    "-  `get_std_matrix()` is a method that returns the covariance matrix."
   ]
  },
  {
   "cell_type": "code",
   "execution_count": 5,
   "metadata": {},
   "outputs": [
    {
     "name": "stdout",
     "output_type": "stream",
     "text": [
      "10 first elements of the matrix: \n",
      " \n",
      " [[ 0.3188661  -0.33848653 -0.77968706]\n",
      " [-0.42616555 -0.10675754 -0.41275248]\n",
      " [ 2.40495472 -0.10675754  1.3403794 ]\n",
      " [ 1.13840091  0.47256492  1.25883839]\n",
      " [-0.94768771  1.97880333  0.32111668]\n",
      " [ 1.51091674  1.05188739 -1.18739215]\n",
      " [ 0.46787243 -0.57021552 -0.41275248]\n",
      " [-1.69271936  0.47256492 -0.535064  ]\n",
      " [-0.94768771  1.74707434  1.38114991]\n",
      " [ 0.61687876 -0.91780899  1.38114991]]\n"
     ]
    }
   ],
   "source": [
    "_matrix_ = stand_matrix.get_matrix(id, energy_value, R = 5)\n",
    "\n",
    "# we show the first 10 events\n",
    "print('10 first elements of the matrix:','\\n','\\n',_matrix_[:10])"
   ]
  },
  {
   "cell_type": "code",
   "execution_count": 6,
   "metadata": {},
   "outputs": [
    {
     "name": "stdout",
     "output_type": "stream",
     "text": [
      "Covariance matrix: \n",
      " \n",
      " [[ 1.         -0.01103981 -0.00147791]\n",
      " [-0.01103981  1.         -0.06635631]\n",
      " [-0.00147791 -0.06635631  1.        ]]\n"
     ]
    }
   ],
   "source": [
    "_std_matrix = stand_matrix.get_std_matrix(id, energy_value, R = 5)\n",
    "\n",
    "print('Covariance matrix:','\\n','\\n',_std_matrix[:10])"
   ]
  },
  {
   "cell_type": "markdown",
   "metadata": {},
   "source": [
    "We'll use now the methods `get_eigenvalues()` and `get_eigenvectors()`.\n",
    "\n",
    "- `get_eigenvalues()` is a method that returns the eigenvalues of the covariance matrix, if none is given.\n",
    "- `get_eigenvectors()` is a method that returns the eigenvectors of the covariance matrix, if none is given."
   ]
  },
  {
   "cell_type": "code",
   "execution_count": 7,
   "metadata": {},
   "outputs": [
    {
     "name": "stdout",
     "output_type": "stream",
     "text": [
      "eigenvalues: [1.07901468 0.99543797 0.92554736] \n",
      "\n",
      "eigenvectors: \n",
      " \n",
      " [[ 0.2340008  -0.972131   -0.01431602]\n",
      " [-0.68636214 -0.17560666  0.70574026]\n",
      " [ 0.68858597  0.15531781  0.70832601]]\n"
     ]
    }
   ],
   "source": [
    "eigenvalues = stand_matrix.get_eigenvalues(id = id, energy = energy_value, R = 5)\n",
    "eigenvectors = stand_matrix.get_eigenvectors(id = id, energy = energy_value, R = 5)\n",
    "\n",
    "print('eigenvalues:',eigenvalues, '\\n')\n",
    "print('eigenvectors:','\\n','\\n',eigenvectors)"
   ]
  },
  {
   "cell_type": "markdown",
   "metadata": {},
   "source": [
    "Finally, we'll use the methods `print_eigenvalues()`, `print_eigenvectors()` and `print_variability()`.\n",
    "\n",
    "- `print_eigenvalues()` is a method that plots a table with the eigenvalues.\n",
    "- `print_eigenvectors()` is a method that plots a table with the eigenvectors.\n",
    "- `print_variability()` is a method that plots the variability explained by each principal component."
   ]
  },
  {
   "cell_type": "code",
   "execution_count": 9,
   "metadata": {},
   "outputs": [
    {
     "data": {
      "image/png": "[encoded data removed]",
      "text/plain": [
       "<Figure size 800x140 with 1 Axes>"
      ]
     },
     "metadata": {},
     "output_type": "display_data"
    }
   ],
   "source": [
    "stand_matrix.print_eigenvalues(id, energy_value, R = 5)"
   ]
  },
  {
   "cell_type": "code",
   "execution_count": 10,
   "metadata": {},
   "outputs": [
    {
     "data": {
      "image/png": "[encoded data removed]",
      "text/plain": [
       "<Figure size 800x220 with 1 Axes>"
      ]
     },
     "metadata": {},
     "output_type": "display_data"
    }
   ],
   "source": [
    "stand_matrix.print_eigenvectors(id, energy_value, R = 5)"
   ]
  },
  {
   "cell_type": "code",
   "execution_count": 8,
   "metadata": {},
   "outputs": [
    {
     "data": {
      "image/png": "[encoded data removed]",
      "text/plain": [
       "<Figure size 800x220 with 1 Axes>"
      ]
     },
     "metadata": {},
     "output_type": "display_data"
    }
   ],
   "source": [
    "stand_matrix.print_variability(id, energy_value, R = 5)"
   ]
  }
 ],
 "metadata": {
  "kernelspec": {
   "display_name": "Python 3",
   "language": "python",
   "name": "python3"
  },
  "language_info": {
   "codemirror_mode": {
    "name": "ipython",
    "version": 3
   },
   "file_extension": ".py",
   "mimetype": "text/x-python",
   "name": "python",
   "nbconvert_exporter": "python",
   "pygments_lexer": "ipython3",
   "version": "3.11.4"
  }
 },
 "nbformat": 4,
 "nbformat_minor": 2
}
